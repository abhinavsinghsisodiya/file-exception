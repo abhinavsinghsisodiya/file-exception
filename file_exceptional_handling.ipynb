{
  "nbformat": 4,
  "nbformat_minor": 0,
  "metadata": {
    "colab": {
      "provenance": []
    },
    "kernelspec": {
      "name": "python3",
      "display_name": "Python 3"
    },
    "language_info": {
      "name": "python"
    }
  },
  "cells": [
    {
      "cell_type": "markdown",
      "source": [
        "# assigment question"
      ],
      "metadata": {
        "id": "uR5w83oZ16Vq"
      }
    },
    {
      "cell_type": "markdown",
      "source": [
        "*italicized text*"
      ],
      "metadata": {
        "id": "KPi8b79N16Dk"
      }
    },
    {
      "cell_type": "markdown",
      "source": [
        "1.  What is the difference between interpreted and compiled languages\n",
        "   -;The key difference between compiled and interpreted languages lies in how they translate and execute code: compiled languages translate the entire program into machine code before execution, while interpreted languages translate and execute code line by line during runtime.\n",
        "\n",
        "\n",
        "\n",
        "2. What is exception handling in Python0\n",
        " -;\n",
        "Exception handling in Python is a process of resolving errors that occur in a program. This involves catching exceptions, understanding what caused them, and then responding accordingly. Exceptions are errors that occur at runtime when the program is being executed.\n",
        "\n",
        "\n",
        "3.  What is the purpose of the finally block in exception handling\n",
        "    -;The purpose of the finally block in exception handling is to ensure that specific code, often resource cleanup, is executed regardless of whether an exception occurs within the try block or not.\n",
        "\n",
        "\n",
        "4.What is logging in Python\n",
        "  -; In Python, logging is a built-in module that allows developers to track events, debug issues, and monitor the health of their applications by recording messages with different severity levels and formats.\n",
        "\n",
        "\n",
        "5. What is the significance of the __del__ method in Python\n",
        " -; In Python, the __del__ method, also known as a destructor or finalizer, is automatically called by the garbage collector when an object is about to be destroyed, allowing for cleanup of resources before the object is deallocated.\n",
        "\n",
        "\n",
        "\n",
        "\n",
        " 6.  What is the difference between import and from ... import in Python\n",
        "    -; In general, you should use the import statement when you need to use many attributes from a module, or when the module name is short and easy to remember. You should use the from statement when you only need to use a few attributes from a module, or when the module name is long and hard to remember\n",
        "\n",
        "\n",
        "7. How can you handle multiple exceptions in Python0\n",
        "   -;Python allows you to catch multiple exceptions in a single 'except' block by specifying them as a tuple. This feature is useful when different exceptions require similar handling logic. In this case, if either 'ExceptionType1' or 'ExceptionType2' is raised, the code within the 'except' block will be executed\n",
        "\n",
        "\n",
        "\n",
        "\n",
        "\n",
        "   8. F What is the purpose of the with statement when handling files in Python\n",
        "      -;The with statement in Python, when used with file handling, ensures that a file is automatically closed after its operations are complete, even if errors occur, simplifying resource management and preventing potential issues like file corruption or leaks.\n",
        "\n",
        "\n",
        "\n",
        "\n",
        "  9.  What is the difference between multithreading and multiprocessing0\n",
        "  -;Multithreading involves creating and managing multiple threads within a single process, while multiprocessing involves creating and managing multiple processes, each with its own memory space, to achieve parallel execution.\n",
        "\n",
        "\n",
        "\n",
        "  10. What are the advantages of using logging in a program\n",
        "   -;Logging in programming offers numerous advantages, including improved debugging, performance monitoring, security auditing, and compliance, ultimately leading to more robust and reliable applications\n",
        "\n",
        "\n",
        "\n",
        "   11. F What is memory management in Python\n",
        "     -;In Python, memory management involves allocating and managing memory for objects and data structures within a private heap, handled automatically by the Python memory manager through reference counting and garbage collection.\n",
        "\n",
        "\n",
        "12.  What are the basic steps involved in exception handling in Python\n",
        "   -;In Python, exception handling involves using try, except, else, and finally blocks: the try block contains code that might raise an exception, except handles specific exceptions, else runs if no exception occurs, and finally ensures code runs regardless.\n",
        "\n",
        "\n",
        "   13. Why is memory management important in Python0\n",
        "    -; Memory management is crucial in Python because it directly impacts program performance, stability, and resource utilization. Python's automatic memory management, including garbage collection and reference counting, helps developers write efficient code without needing to manually manage memory, preventing issues like memory leaks and crashes.\n",
        "\n",
        "\n",
        "\n",
        "\n",
        "    14. F What is the role of try and except in exception handling\n",
        "      -; In exception handling, the try block contains code that might potentially raise an exception, while the except block handles the exception if it occurs, preventing the program from crashing and allowing for graceful error handling.\n",
        "\n",
        "\n",
        "\n",
        "\n",
        "      15.  How does Python's garbage collection system work\n",
        "       -;Python's garbage collection algorithm is very useful for opening up space in the memory. Garbage collection is implemented in Python in two ways: reference counting and generational. When the reference count of an object reaches 0, the reference counting garbage collection algorithm cleans up the object immediately\n",
        "\n",
        "\n",
        "\n",
        "       16.  What is the purpose of the else block in exception handling0\n",
        "        -;In exception handling, the else block is executed only if no exceptions are raised within the preceding try block. It allows you to execute code that should run only when the try block executes successfully, enhancing the program's flow and clarity.\n",
        "\n",
        "\n",
        "        17. F What are the common logging levels in Python\n",
        "          -;Python has six log levels with each one assigned a specific integer indicating the severity of the log:\n",
        "           NOTSET=0.\n",
        "            DEBUG=10.\n",
        "             INFO=20.\n",
        "             WARN=30.\n",
        "            ERROR=40.\n",
        "            CRITICAL=50.\n",
        "\n",
        "\n",
        "    18. What is the difference between os.fork() and multiprocessing in Python\n",
        "    -;he only real difference between the os.fork and multiprocessing.Process is portability and library overhead, since os.fork is not supported in windows, and the multiprocessing framework is included to make multiprocessing.Process work. This is because os.fork is called by multiprocessing.Process, as this answer backs up.\n",
        "\n",
        "The important distinction, then, is os.fork copies everything in the current process using Unix's forking, which means at the time of forking both processes are the same with PID differences. In Window's, this is emulated by rerunning all the setup code before the if __name__ == '__main__':, which is roughly the same as creating a subprocess using the subprocess library.\n",
        "\n",
        "For you, the code snippets you provide are doing fairly different things above, because you call external_function in main before you open the new process in the second code clip, making the two processes run in series but in different processes. Also the pipe is unnecessary, as it emulates no functionality from the first code.        \n",
        "\n",
        "\n",
        "\n",
        "\n",
        "\n",
        "\n",
        "19.   What is the importance of closing a file in Python0\n",
        "-; You've learned why it's important to close files in Python. Because files are limited resources managed by the operating system, making sure files are closed after use will protect against hard-to-debug issues like running out of file handles or experiencing corrupted data\n",
        "\n",
        "\n",
        "\n",
        "\n",
        "20.What is the difference between file.read() and file.readline() in Python0\n",
        " -; The read() will read the whole file at once and then print out the first characters that take up as many bytes as you specify in the parenthesis versus the readline() that will read and print out only the first characters that take up as many bytes as you specify in the parenthesis.\n",
        "\n",
        "\n",
        "\n",
        " 21.  What is the logging module in Python used for\n",
        " -; The Python logging module is a powerful tool for tracking events, debugging issues, and monitoring the health of applications by providing a flexible framework for emitting log messages, including errors, warnings, and informational messages, during program execution.\n",
        "\n",
        "\n",
        " 22.  What is the os module in Python used for in file handling\n",
        "  -; Python has a built-in os module with methods for interacting with the operating system, like creating files and directories, management of files and directories, input, output, environment variables, process management, etc.\n",
        "\n",
        "\n",
        "\n",
        "  23.  What are the challenges associated with memory management in Python\n",
        "    -; Python's automatic memory management, while convenient, presents challenges like memory leaks due to circular references and potential inefficiencies with large datasets, demanding careful coding practices and profiling tools for optimization.\n",
        "\n",
        "\n",
        "    24.  How do you raise an exception manually in Python0\n",
        "    -; To manually raise an exception in Python, use the raise statement. Here is an example of how to use it: Copied! In this example, the calculate_payment function raises a ValueError exception if the payment_type is not either \"Visa\" or \"Mastercard\".\n",
        "\n",
        "\n",
        "\n",
        "    25.  Why is it important to use multithreading in certain applications\n",
        "     -; Multithreading minimizes the time required for context switching compared to switching between separate processes, as threads within the same process share the same memory space and can switch more quickly. This results in reduced overhead and improved system responsiveness.\n",
        "\n",
        "\n",
        "\n",
        "\n",
        "\n",
        "     "
      ],
      "metadata": {
        "id": "Nl5QqlvW15vI"
      }
    },
    {
      "cell_type": "markdown",
      "source": [],
      "metadata": {
        "id": "sXexsHeBDPU4"
      }
    },
    {
      "cell_type": "markdown",
      "source": [
        "# practical questions"
      ],
      "metadata": {
        "id": "6HtbmB_0DQHI"
      }
    },
    {
      "cell_type": "markdown",
      "source": [],
      "metadata": {
        "id": "pwxPCjItDXsU"
      }
    },
    {
      "cell_type": "markdown",
      "source": [
        "1. How can you open a file for writing in Python and write a string to it\u001f"
      ],
      "metadata": {
        "id": "-pRZB3JBDYYA"
      }
    },
    {
      "cell_type": "code",
      "source": [
        "with open('filename.txt', 'w') as file:\n",
        "    file.write('Your string here')\n",
        "\n"
      ],
      "metadata": {
        "colab": {
          "base_uri": "https://localhost:8080/"
        },
        "id": "hP1OJbAk-71b",
        "outputId": "f1a2f061-a59f-4cad-d25b-cb4b25553fcb"
      },
      "execution_count": 2,
      "outputs": [
        {
          "output_type": "stream",
          "name": "stdout",
          "text": [
            "<built-in method write of _io.TextIOWrapper object at 0x7ec46de7e9b0>\n"
          ]
        }
      ]
    },
    {
      "cell_type": "markdown",
      "source": [],
      "metadata": {
        "id": "AL9OJbcPD8VG"
      }
    },
    {
      "cell_type": "markdown",
      "source": [
        "2. Write a Python program to read the contents of a file and print each line"
      ],
      "metadata": {
        "id": "ow6Ml4d8EdYy"
      }
    },
    {
      "cell_type": "code",
      "source": [
        "file_path = 'your_file.txt'\n",
        "\n",
        "with open(file_path, 'r') as file:\n",
        "    for line in file:\n",
        "        print(line.strip())\n"
      ],
      "metadata": {
        "id": "gwYGUm4iEpf4"
      },
      "execution_count": null,
      "outputs": []
    },
    {
      "cell_type": "markdown",
      "source": [],
      "metadata": {
        "id": "kf7w5JUZE0mP"
      }
    },
    {
      "cell_type": "markdown",
      "source": [
        "3.F How would you handle a case where the file doesn't exist while trying to open it for reading\u001f"
      ],
      "metadata": {
        "id": "E1__qHxME0_9"
      }
    },
    {
      "cell_type": "code",
      "source": [
        "try:\n",
        "    with open('file.txt', 'r') as file:\n",
        "        content = file.read()\n",
        "except FileNotFoundError:\n",
        "    print(\"The file does not exist.\")\n"
      ],
      "metadata": {
        "colab": {
          "base_uri": "https://localhost:8080/"
        },
        "id": "c0s9KAG8FBVJ",
        "outputId": "1e8fca18-aa5c-4d71-c187-c16485e3fc72"
      },
      "execution_count": 5,
      "outputs": [
        {
          "output_type": "stream",
          "name": "stdout",
          "text": [
            "The file does not exist.\n"
          ]
        }
      ]
    },
    {
      "cell_type": "markdown",
      "source": [],
      "metadata": {
        "id": "9tusL9OJFNVM"
      }
    },
    {
      "cell_type": "markdown",
      "source": [
        "4.Write a Python script that reads from one file and writes its content to another file"
      ],
      "metadata": {
        "id": "SEb-TIcNFNvd"
      }
    },
    {
      "cell_type": "code",
      "source": [
        "# Import necessary libraries\n",
        "import shutil\n",
        "\n",
        "# Define the file paths\n",
        "source_file = 'source.txt'\n",
        "destination_file = 'destination.txt'\n",
        "\n",
        "# Read from the source file and write to the destination file\n",
        "shutil.copyfile(source_file, destination_file)\n"
      ],
      "metadata": {
        "id": "cgvg1eNOFa7p"
      },
      "execution_count": null,
      "outputs": []
    },
    {
      "cell_type": "markdown",
      "source": [],
      "metadata": {
        "id": "7YdYIWrZFnCz"
      }
    },
    {
      "cell_type": "markdown",
      "source": [
        "5.  How would you catch and handle division by zero error in Python"
      ],
      "metadata": {
        "id": "FKBJDRwgFnmN"
      }
    },
    {
      "cell_type": "code",
      "source": [
        "# Division by Zero Error Handling in Python\n",
        "\n",
        "def safe_divide(a, b):\n",
        "    try:\n",
        "        result = a / b\n",
        "    except ZeroDivisionError:\n",
        "        return \"Error: Division by zero is not allowed.\"\n",
        "    return result\n",
        "\n",
        "# Example usage\n",
        "print(safe_divide(10, 2))  # Output: 5.0\n",
        "print(safe_divide(10, 0))  # Output: Error: Division by zero is not allowed.\n"
      ],
      "metadata": {
        "colab": {
          "base_uri": "https://localhost:8080/"
        },
        "id": "EI207uguF_8V",
        "outputId": "861dceaf-0729-4860-e36c-d9f2d095cb80"
      },
      "execution_count": 8,
      "outputs": [
        {
          "output_type": "stream",
          "name": "stdout",
          "text": [
            "5.0\n",
            "Error: Division by zero is not allowed.\n"
          ]
        }
      ]
    },
    {
      "cell_type": "markdown",
      "source": [],
      "metadata": {
        "id": "O9ssxa36GHQb"
      }
    },
    {
      "cell_type": "markdown",
      "source": [
        "6. Write a Python program that logs an error message to a log file when a division by zero exception occurs"
      ],
      "metadata": {
        "id": "fKe0qWu8GHtM"
      }
    },
    {
      "cell_type": "code",
      "source": [
        "# Error Logger\n",
        "\n",
        "import logging\n",
        "\n",
        "# Configure logging\n",
        "logging.basicConfig(filename='error.log', level=logging.ERROR)\n",
        "\n",
        "def divide_numbers(a, b):\n",
        "    try:\n",
        "        result = a / b\n",
        "        return result\n",
        "    except ZeroDivisionError as e:\n",
        "        logging.error(\"Division by zero error: %s\", e)\n",
        "\n",
        "# Example usage\n",
        "divide_numbers(10, 0)\n"
      ],
      "metadata": {
        "colab": {
          "base_uri": "https://localhost:8080/"
        },
        "id": "2L9QN9RgGPG3",
        "outputId": "feb3e75f-7d43-4e3b-feba-0dd290360ae0"
      },
      "execution_count": 9,
      "outputs": [
        {
          "output_type": "stream",
          "name": "stderr",
          "text": [
            "ERROR:root:Division by zero error: division by zero\n"
          ]
        }
      ]
    },
    {
      "cell_type": "markdown",
      "source": [],
      "metadata": {
        "id": "CwR0_mxeGbcr"
      }
    },
    {
      "cell_type": "markdown",
      "source": [
        "7. F How do you log information at different levels (INFO, ERROR, WARNING) in Python using the logging module"
      ],
      "metadata": {
        "id": "5xKHsAtVGb1C"
      }
    },
    {
      "cell_type": "code",
      "source": [
        "# Logging Example\n",
        "\n",
        "import logging\n",
        "\n",
        "# Configure logging\n",
        "logging.basicConfig(level=logging.DEBUG)\n",
        "\n",
        "# Log messages at different levels\n",
        "logging.debug('This is a debug message')\n",
        "logging.info('This is an info message')\n",
        "logging.warning('This is a warning message')\n",
        "logging.error('This is an error message')\n",
        "logging.critical('This is a critical message')\n"
      ],
      "metadata": {
        "colab": {
          "base_uri": "https://localhost:8080/"
        },
        "id": "jQQZ1HPsGrrM",
        "outputId": "f0ce3d5f-a8f7-4105-d597-03aaa47c13b6"
      },
      "execution_count": 10,
      "outputs": [
        {
          "output_type": "stream",
          "name": "stderr",
          "text": [
            "WARNING:root:This is a warning message\n",
            "ERROR:root:This is an error message\n",
            "CRITICAL:root:This is a critical message\n"
          ]
        }
      ]
    },
    {
      "cell_type": "markdown",
      "source": [],
      "metadata": {
        "id": "QWmj_i3AGxXy"
      }
    },
    {
      "cell_type": "markdown",
      "source": [
        "8.Write a program to handle a file opening error using exception handlingF\n"
      ],
      "metadata": {
        "id": "f3tBSIwuGyT4"
      }
    },
    {
      "cell_type": "code",
      "source": [
        "try:\n",
        "    with open('example.txt', 'r') as file:\n",
        "        content = file.read()\n",
        "        print(content)\n",
        "except FileNotFoundError:\n",
        "    print(\"Error: The file does not exist.\")\n",
        "except IOError:\n",
        "    print(\"Error: An I/O error occurred.\")\n"
      ],
      "metadata": {
        "colab": {
          "base_uri": "https://localhost:8080/"
        },
        "id": "kv3ofyHBHHpB",
        "outputId": "bf4d5781-0219-4f31-db79-baeba1ddfbd1"
      },
      "execution_count": 11,
      "outputs": [
        {
          "output_type": "stream",
          "name": "stdout",
          "text": [
            "Error: The file does not exist.\n"
          ]
        }
      ]
    },
    {
      "cell_type": "markdown",
      "source": [],
      "metadata": {
        "id": "gBZo2kUeHMkI"
      }
    },
    {
      "cell_type": "markdown",
      "source": [
        "9. How can you read a file line by line and store its content in a list in Python"
      ],
      "metadata": {
        "id": "p-cwdHvPHNBC"
      }
    },
    {
      "cell_type": "code",
      "source": [
        "file_content = []\n",
        "with open('your_file.txt', 'r') as file:\n",
        "    for line in file:\n",
        "        file_content.append(line.strip())\n"
      ],
      "metadata": {
        "id": "zQDCk5hlHbOi"
      },
      "execution_count": null,
      "outputs": []
    },
    {
      "cell_type": "markdown",
      "source": [],
      "metadata": {
        "id": "IQTNdjp_ICwR"
      }
    },
    {
      "cell_type": "markdown",
      "source": [
        "10. How can you append data to an existing file in Python\u001f"
      ],
      "metadata": {
        "id": "LQDGokrNIDPa"
      }
    },
    {
      "cell_type": "code",
      "source": [
        "# Append data to an existing file in Python\n",
        "\n",
        "with open('example.txt', 'a') as file:\n",
        "    file.write('This is the new line of text.\\n')\n"
      ],
      "metadata": {
        "id": "VuZr8qTXJuX0"
      },
      "execution_count": 15,
      "outputs": []
    },
    {
      "cell_type": "markdown",
      "source": [],
      "metadata": {
        "id": "LEASgKzgKSvj"
      }
    },
    {
      "cell_type": "markdown",
      "source": [
        "11.Write a Python program that uses a try-except block to handle an error when attempting to access a\n",
        "dictionary key that doesn't exist"
      ],
      "metadata": {
        "id": "VZ_Lcls0KTGa"
      }
    },
    {
      "cell_type": "code",
      "source": [
        "# Error Handling in Dictionary Access\n",
        "\n",
        "my_dict = {'a': 1, 'b': 2, 'c': 3}\n",
        "\n",
        "try:\n",
        "    value = my_dict['d']\n",
        "except KeyError:\n",
        "    print(\"Key does not exist in the dictionary.\")\n"
      ],
      "metadata": {
        "colab": {
          "base_uri": "https://localhost:8080/"
        },
        "id": "J-9VVgZkKnhq",
        "outputId": "00521794-048d-49b4-d3f2-8c9195688356"
      },
      "execution_count": 16,
      "outputs": [
        {
          "output_type": "stream",
          "name": "stdout",
          "text": [
            "Key does not exist in the dictionary.\n"
          ]
        }
      ]
    },
    {
      "cell_type": "markdown",
      "source": [],
      "metadata": {
        "id": "PrI04XxWKtQy"
      }
    },
    {
      "cell_type": "markdown",
      "source": [
        "12.Write a program that demonstrates using multiple except blocks to handle different types of exceptions"
      ],
      "metadata": {
        "id": "MfmlQOiLKtkr"
      }
    },
    {
      "cell_type": "code",
      "source": [
        "# Exception Handling Example\n",
        "\n",
        "def divide_numbers(num1, num2):\n",
        "    try:\n",
        "        result = num1 / num2\n",
        "        print(f\"The result is: {result}\")\n",
        "    except ZeroDivisionError:\n",
        "        print(\"Error: Cannot divide by zero.\")\n",
        "    except TypeError:\n",
        "        print(\"Error: Please provide numbers only.\")\n",
        "    except Exception as e:\n",
        "        print(f\"An unexpected error occurred: {e}\")\n",
        "\n",
        "# Test the function\n",
        "divide_numbers(10, 2)  # Valid input\n",
        "divide_numbers(10, 0)  # ZeroDivisionError\n",
        "divide_numbers(10, 'a')  # TypeError\n"
      ],
      "metadata": {
        "colab": {
          "base_uri": "https://localhost:8080/"
        },
        "id": "IdKV1kiiK4Ts",
        "outputId": "f648c2b3-e20e-4a19-ce09-3981726479ef"
      },
      "execution_count": 17,
      "outputs": [
        {
          "output_type": "stream",
          "name": "stdout",
          "text": [
            "The result is: 5.0\n",
            "Error: Cannot divide by zero.\n",
            "Error: Please provide numbers only.\n"
          ]
        }
      ]
    },
    {
      "cell_type": "markdown",
      "source": [],
      "metadata": {
        "id": "gH4zC-1MLE2Z"
      }
    },
    {
      "cell_type": "markdown",
      "source": [
        "13. How would you check if a file exists before attempting to read it in Python"
      ],
      "metadata": {
        "id": "Of0VgUmbLFQh"
      }
    },
    {
      "cell_type": "code",
      "source": [
        "import os\n",
        "\n",
        "file_path = 'example.txt'\n",
        "\n",
        "if os.path.exists(file_path):\n",
        "    with open(file_path, 'r') as file:\n",
        "        content = file.read()\n",
        "        print(content)\n",
        "else:\n",
        "    print(\"File does not exist.\")\n"
      ],
      "metadata": {
        "colab": {
          "base_uri": "https://localhost:8080/"
        },
        "id": "TrCyaKCRLnjY",
        "outputId": "82e13fd1-db66-40f1-82a9-6d41a5d5cda4"
      },
      "execution_count": 18,
      "outputs": [
        {
          "output_type": "stream",
          "name": "stdout",
          "text": [
            "This is the new line of text.\n",
            "\n"
          ]
        }
      ]
    },
    {
      "cell_type": "markdown",
      "source": [],
      "metadata": {
        "id": "PluVdyrrLsZZ"
      }
    },
    {
      "cell_type": "markdown",
      "source": [
        "14.Write a program that uses the logging module to log both informational and error messages"
      ],
      "metadata": {
        "id": "-b1EopxhLsvP"
      }
    },
    {
      "cell_type": "code",
      "source": [
        "# Logging Example\n",
        "\n",
        "import logging\n",
        "\n",
        "# Configure logging\n",
        "logging.basicConfig(level=logging.DEBUG, format='%(asctime)s - %(levelname)s - %(message)s')\n",
        "\n",
        "# Log informational message\n",
        "logging.info('This is an informational message.')\n",
        "\n",
        "# Log error message\n",
        "logging.error('This is an error message.')\n"
      ],
      "metadata": {
        "colab": {
          "base_uri": "https://localhost:8080/"
        },
        "id": "8c70y2E9L6GI",
        "outputId": "e45567e4-9d7f-47d1-e501-bfb0d75599bd"
      },
      "execution_count": 19,
      "outputs": [
        {
          "output_type": "stream",
          "name": "stderr",
          "text": [
            "ERROR:root:This is an error message.\n"
          ]
        }
      ]
    },
    {
      "cell_type": "markdown",
      "source": [],
      "metadata": {
        "id": "wWAvnnYeMKfI"
      }
    },
    {
      "cell_type": "markdown",
      "source": [
        "15. Write a Python program that prints the content of a file and handles the case when the file is empty"
      ],
      "metadata": {
        "id": "G9FpO4jjMLAy"
      }
    },
    {
      "cell_type": "code",
      "source": [
        "# File content printer\n",
        "\n",
        "def print_file_content(file_path):\n",
        "    try:\n",
        "        with open(file_path, 'r') as file:\n",
        "            content = file.read()\n",
        "            if content:\n",
        "                print(content)\n",
        "            else:\n",
        "                print(\"The file is empty.\")\n",
        "    except FileNotFoundError:\n",
        "        print(\"The specified file does not exist.\")\n",
        "    except Exception as e:\n",
        "        print(f\"An error occurred: {e}\")\n",
        "\n",
        "# Example usage\n",
        "print_file_content('example.txt')\n"
      ],
      "metadata": {
        "colab": {
          "base_uri": "https://localhost:8080/"
        },
        "id": "jMHK7JeEMS54",
        "outputId": "83dc6cef-74c2-47ee-9d3b-f919c469e5eb"
      },
      "execution_count": 20,
      "outputs": [
        {
          "output_type": "stream",
          "name": "stdout",
          "text": [
            "This is the new line of text.\n",
            "\n"
          ]
        }
      ]
    },
    {
      "cell_type": "markdown",
      "source": [],
      "metadata": {
        "id": "WSoRGxwzMdUn"
      }
    },
    {
      "cell_type": "markdown",
      "source": [
        "16.Demonstrate how to use memory profiling to check the memory usage of a small program"
      ],
      "metadata": {
        "id": "wnh5kSxBMds3"
      }
    },
    {
      "cell_type": "code",
      "source": [
        "# Memory Profiling Example\n",
        "\n",
        "from memory_profiler import profile\n",
        "\n",
        "@profile\n",
        "def my_function():\n",
        "    a = [i for i in range(10000)]\n",
        "    b = [i * 2 for i in a]\n",
        "    return b\n",
        "\n",
        "if __name__ == \"__main__\":\n",
        "    my_function()\n"
      ],
      "metadata": {
        "id": "ba4pagwrMndr"
      },
      "execution_count": null,
      "outputs": []
    },
    {
      "cell_type": "markdown",
      "source": [],
      "metadata": {
        "id": "3xWE3fk2MyNu"
      }
    },
    {
      "cell_type": "markdown",
      "source": [
        "17.  Write a Python program to create and write a list of numbers to a file, one number per line"
      ],
      "metadata": {
        "id": "VSNHmbKJMyqF"
      }
    },
    {
      "cell_type": "code",
      "source": [
        "# Create a list of numbers\n",
        "numbers = [1, 2, 3, 4, 5, 6, 7, 8, 9, 10]\n",
        "\n",
        "# Write the numbers to a file, one number per line\n",
        "with open('numbers.txt', 'w') as file:\n",
        "    for number in numbers:\n",
        "        file.write(f\"{number}\\n\")\n"
      ],
      "metadata": {
        "id": "6AkMu5keNnYM"
      },
      "execution_count": 23,
      "outputs": []
    },
    {
      "cell_type": "markdown",
      "source": [],
      "metadata": {
        "id": "3X1LqHyANdoc"
      }
    },
    {
      "cell_type": "markdown",
      "source": [
        "18.  How would you implement a basic logging setup that logs to a file with rotation after 1MB"
      ],
      "metadata": {
        "id": "Ih2YV8UqNtFl"
      }
    },
    {
      "cell_type": "code",
      "source": [
        "# Basic Logging Setup with Rotation\n",
        "\n",
        "import logging\n",
        "from logging.handlers import RotatingFileHandler\n",
        "\n",
        "# Create a logger\n",
        "logger = logging.getLogger('MyLogger')\n",
        "logger.setLevel(logging.DEBUG)\n",
        "\n",
        "# Create a rotating file handler\n",
        "handler = RotatingFileHandler('my_log.log', maxBytes=1e6, backupCount=5)\n",
        "logger.addHandler(handler)\n",
        "\n",
        "# Create a formatter and set it for the handler\n",
        "formatter = logging.Formatter('%(asctime)s - %(levelname)s - %(message)s')\n",
        "handler.setFormatter(formatter)\n",
        "\n",
        "# Example log messages\n",
        "logger.debug('This is a debug message')\n",
        "logger.info('This is an info message')\n",
        "logger.warning('This is a warning message')\n",
        "logger.error('This is an error message')\n",
        "logger.critical('This is a critical message')\n"
      ],
      "metadata": {
        "colab": {
          "base_uri": "https://localhost:8080/"
        },
        "id": "uE7GxLZMN5Q7",
        "outputId": "6390ed56-ee67-4133-d1d4-9ebfd122c2d3"
      },
      "execution_count": 24,
      "outputs": [
        {
          "output_type": "stream",
          "name": "stderr",
          "text": [
            "DEBUG:MyLogger:This is a debug message\n",
            "INFO:MyLogger:This is an info message\n",
            "WARNING:MyLogger:This is a warning message\n",
            "ERROR:MyLogger:This is an error message\n",
            "CRITICAL:MyLogger:This is a critical message\n"
          ]
        }
      ]
    },
    {
      "cell_type": "markdown",
      "source": [],
      "metadata": {
        "id": "BzNIfFETN9os"
      }
    },
    {
      "cell_type": "markdown",
      "source": [
        "19.Write a program that handles both IndexError and KeyError using a try-except block"
      ],
      "metadata": {
        "id": "4heEaESaN-Ds"
      }
    },
    {
      "cell_type": "code",
      "source": [
        "# Error Handling Example\n",
        "\n",
        "data = {'a': 1, 'b': 2}\n",
        "\n",
        "try:\n",
        "    # Attempt to access a list index\n",
        "    print(data['c'])  # This will raise a KeyError\n",
        "    my_list = [1, 2, 3]\n",
        "    print(my_list[5])  # This will raise an IndexError\n",
        "except KeyError as e:\n",
        "    print(f\"KeyError: {e} - The key does not exist in the dictionary.\")\n",
        "except IndexError as e:\n",
        "    print(f\"IndexError: {e} - The index is out of range.\")\n"
      ],
      "metadata": {
        "colab": {
          "base_uri": "https://localhost:8080/"
        },
        "id": "Dk1DR1UCOGsI",
        "outputId": "ba17e082-c36d-4a77-eb8a-2ed895083a4f"
      },
      "execution_count": 25,
      "outputs": [
        {
          "output_type": "stream",
          "name": "stdout",
          "text": [
            "KeyError: 'c' - The key does not exist in the dictionary.\n"
          ]
        }
      ]
    },
    {
      "cell_type": "markdown",
      "source": [],
      "metadata": {
        "id": "U2c6jryQObkq"
      }
    },
    {
      "cell_type": "markdown",
      "source": [
        "20.  How would you open a file and read its contents using a context manager in Python"
      ],
      "metadata": {
        "id": "60B25lOuOb_S"
      }
    },
    {
      "cell_type": "code",
      "source": [
        "# Open a file and read its contents using a context manager\n",
        "with open('example.txt', 'r') as file:\n",
        "    contents = file.read()\n",
        "    print(contents)\n"
      ],
      "metadata": {
        "colab": {
          "base_uri": "https://localhost:8080/"
        },
        "id": "ywg6Ey0BOqhx",
        "outputId": "af792daa-d058-442e-92be-fdb5cb95777e"
      },
      "execution_count": 26,
      "outputs": [
        {
          "output_type": "stream",
          "name": "stdout",
          "text": [
            "This is the new line of text.\n",
            "\n"
          ]
        }
      ]
    },
    {
      "cell_type": "markdown",
      "source": [],
      "metadata": {
        "id": "UFq5QkFKOuLj"
      }
    },
    {
      "cell_type": "markdown",
      "source": [
        "21.Write a Python program that reads a file and prints the number of occurrences of a specific word"
      ],
      "metadata": {
        "id": "oBVY6n3IOumR"
      }
    },
    {
      "cell_type": "code",
      "source": [
        "# Word Count Program\n",
        "\n",
        "def count_word_occurrences(file_path, target_word):\n",
        "    try:\n",
        "        with open(file_path, 'r') as file:\n",
        "            content = file.read()\n",
        "            word_count = content.lower().split().count(target_word.lower())\n",
        "            print(f\"The word '{target_word}' occurs {word_count} times in the file.\")\n",
        "    except FileNotFoundError:\n",
        "        print(\"The specified file was not found.\")\n",
        "\n",
        "# Example usage\n",
        "file_path = 'example.txt'  # Replace with your file path\n",
        "target_word = 'your_word'   # Replace with the word you want to count\n",
        "count_word_occurrences(file_path, target_word)\n"
      ],
      "metadata": {
        "colab": {
          "base_uri": "https://localhost:8080/"
        },
        "id": "Zr6aalJ7PCRr",
        "outputId": "7e091a2f-438f-4281-91f5-5d85ee1d8fb0"
      },
      "execution_count": 27,
      "outputs": [
        {
          "output_type": "stream",
          "name": "stdout",
          "text": [
            "The word 'your_word' occurs 0 times in the file.\n"
          ]
        }
      ]
    },
    {
      "cell_type": "markdown",
      "source": [],
      "metadata": {
        "id": "DTFe3rQ1PGqi"
      }
    },
    {
      "cell_type": "markdown",
      "source": [
        "22.  How can you check if a file is empty before attempting to read its contents"
      ],
      "metadata": {
        "id": "6QTk5uGbPHE5"
      }
    },
    {
      "cell_type": "code",
      "source": [
        "# Check if a file is empty before reading its contents\n",
        "\n",
        "file_path = 'your_file.txt'\n",
        "\n",
        "try:\n",
        "    with open(file_path, 'r') as file:\n",
        "        if file.readable() and file.read(1):\n",
        "            file.seek(0)  # Reset file pointer to the beginning\n",
        "            contents = file.read()\n",
        "            print(contents)\n",
        "        else:\n",
        "            print(\"The file is empty.\")\n",
        "except FileNotFoundError:\n",
        "    print(\"The file does not exist.\")\n",
        "except Exception as e:\n",
        "    print(f\"An error occurred: {e}\")\n"
      ],
      "metadata": {
        "colab": {
          "base_uri": "https://localhost:8080/"
        },
        "id": "JsMocNGfPRlp",
        "outputId": "18f9de78-7401-4256-ab7b-a8f8784ebc2c"
      },
      "execution_count": 28,
      "outputs": [
        {
          "output_type": "stream",
          "name": "stdout",
          "text": [
            "The file does not exist.\n"
          ]
        }
      ]
    },
    {
      "cell_type": "markdown",
      "source": [],
      "metadata": {
        "id": "5IawQmwRPhIZ"
      }
    },
    {
      "cell_type": "markdown",
      "source": [
        "23.  Write a Python program that writes to a log file when an error occurs during file handling."
      ],
      "metadata": {
        "id": "je6B7mADPh0Q"
      }
    },
    {
      "cell_type": "code",
      "source": [
        "# Error Logging Program\n",
        "\n",
        "import logging\n",
        "\n",
        "# Configure logging\n",
        "logging.basicConfig(filename='error.log', level=logging.ERROR)\n",
        "\n",
        "def read_file(file_path):\n",
        "    try:\n",
        "        with open(file_path, 'r') as file:\n",
        "            data = file.read()\n",
        "            return data\n",
        "    except Exception as e:\n",
        "        logging.error(f\"Error occurred while reading the file: {e}\")\n",
        "\n",
        "def write_file(file_path, content):\n",
        "    try:\n",
        "        with open(file_path, 'w') as file:\n",
        "            file.write(content)\n",
        "    except Exception as e:\n",
        "        logging.error(f\"Error occurred while writing to the file: {e}\")\n",
        "\n",
        "# Example usage\n",
        "read_file('non_existent_file.txt')\n",
        "write_file('output.txt', 'Hello, World!')\n"
      ],
      "metadata": {
        "colab": {
          "base_uri": "https://localhost:8080/"
        },
        "id": "mAiTPZgWPoOh",
        "outputId": "08a38b05-41d3-4119-ea50-e41716c77239"
      },
      "execution_count": 29,
      "outputs": [
        {
          "output_type": "stream",
          "name": "stderr",
          "text": [
            "ERROR:root:Error occurred while reading the file: [Errno 2] No such file or directory: 'non_existent_file.txt'\n"
          ]
        }
      ]
    },
    {
      "cell_type": "markdown",
      "source": [],
      "metadata": {
        "id": "7k9-5N1hO5ws"
      }
    }
  ]
}